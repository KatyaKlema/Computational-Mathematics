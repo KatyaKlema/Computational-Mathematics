{
 "cells": [
  {
   "cell_type": "code",
   "execution_count": 17,
   "metadata": {
    "collapsed": true
   },
   "outputs": [],
   "source": [
    "import numpy as np\n",
    "import scipy.optimize as opt\n",
    "from matplotlib import pyplot as plt"
   ]
  },
  {
   "cell_type": "code",
   "execution_count": 18,
   "metadata": {
    "collapsed": true
   },
   "outputs": [],
   "source": [
    "def solution(A, b, t, number_iter, tol):\n",
    "    n = A.shape[0]\n",
    "    x = np.zeros(n)\n",
    "    norm = []\n",
    "    \n",
    "    for i in range(number_iter):\n",
    "        norm.append(np.linalg.norm(A @ x - b, 2))\n",
    "        if norm[i] >= tol:\n",
    "            x = x - t*(A @ x - b)\n",
    "        else:\n",
    "            break\n",
    "    return x, norm"
   ]
  },
  {
   "cell_type": "code",
   "execution_count": 19,
   "metadata": {},
   "outputs": [
    {
     "name": "stdout",
     "output_type": "stream",
     "text": [
      "A = \n",
      "[[0.92677549 0.21222167 0.47963287]\n",
      " [0.21222167 0.25044647 0.20296642]\n",
      " [0.47963287 0.20296642 0.62098522]]\n",
      "b = \n",
      "[0.39754079 0.73631199 0.40598725]\n"
     ]
    }
   ],
   "source": [
    "n = 3\n",
    "A = np.random.rand(n,n)\n",
    "A = np.tril(A) + np.tril(A, -1).T\n",
    "while (np.linalg.eigvals(A) <= 0).any(): \n",
    "    A = np.random.rand(n,n)\n",
    "    A = np.tril(A) + np.tril(A, -1).T\n",
    "b = np.random.rand(n)\n",
    "print(\"A = \")\n",
    "print(A)\n",
    "print(\"b = \")\n",
    "print(b)"
   ]
  },
  {
   "cell_type": "code",
   "execution_count": 20,
   "metadata": {},
   "outputs": [
    {
     "name": "stdout",
     "output_type": "stream",
     "text": [
      "[1.10635263 1.38301908 1.11560788] [2.49006173 2.21339528 2.48080648]\n",
      "[1.35416558 0.28313622 0.16090538]\n"
     ]
    }
   ],
   "source": [
    "circle = [] # круги Гершгорина\n",
    "for i in range(n):\n",
    "    circle.append(np.sum(np.abs(A[i,:])) - A[i,i])\n",
    "max_own = np.array(circle) + np.trace(A) # массив максимальных собственных значений\n",
    "min_own = -np.array(circle) + np.trace(A) #массив  минимальных собственных значений\n",
    "print(min_own, max_own)\n",
    "own = np.linalg.eigvals(A)\n",
    "print(own)"
   ]
  },
  {
   "cell_type": "code",
   "execution_count": 25,
   "metadata": {},
   "outputs": [
    {
     "name": "stdout",
     "output_type": "stream",
     "text": [
      "5.848904432234878e-09\n"
     ]
    }
   ],
   "source": [
    "t = np.random.rand() * 2 / np.max(max_own)\n",
    "x, tol_1 = solution(A, b, t, 10**6, 10**-9)\n",
    "print(np.linalg.norm(x - np.linalg.solve(A, b), 2))"
   ]
  },
  {
   "cell_type": "code",
   "execution_count": 26,
   "metadata": {},
   "outputs": [
    {
     "name": "stdout",
     "output_type": "stream",
     "text": [
      "6.153513684298167e-09\n"
     ]
    }
   ],
   "source": [
    "t = 2 / (np.max(max_own) + np.min(min_own)) \n",
    "x, tol_2 = solution(A, b, t, 10 ** 6, 10 ** -9)\n",
    "print(np.linalg.norm(x - np.linalg.solve(A, b), 2))"
   ]
  },
  {
   "cell_type": "code",
   "execution_count": 27,
   "metadata": {},
   "outputs": [
    {
     "name": "stdout",
     "output_type": "stream",
     "text": [
      "3.0602829810345533e-09\n"
     ]
    }
   ],
   "source": [
    "t = 2 / (np.max(own) + np.min(own)) \n",
    "x, tol_3 = solution(A, b, t, 10 ** 6, 10 ** -9)\n",
    "print(np.linalg.norm(x - np.linalg.solve(A, b), 2))"
   ]
  },
  {
   "cell_type": "code",
   "execution_count": 28,
   "metadata": {},
   "outputs": [
    {
     "data": {
      "image/png": "[encoded data removed]",
      "text/plain": [
       "<matplotlib.figure.Figure at 0x11a4f42e8>"
      ]
     },
     "metadata": {},
     "output_type": "display_data"
    }
   ],
   "source": [
    "plt.plot(list(range(len(tol_1))), np.log(tol_1))\n",
    "plt.plot(list(range(len(tol_2))), np.log(tol_2))\n",
    "plt.plot(list(range(len(tol_3))), np.log(tol_3))\n",
    "plt.xlabel('ln(tol)')\n",
    "plt.ylabel('k')\n",
    "plt.legend([\"tol1\", \"tol2\", \"tol3\"])\n",
    "plt.show()"
   ]
  },
  {
   "cell_type": "code",
   "execution_count": null,
   "metadata": {
    "collapsed": true
   },
   "outputs": [],
   "source": []
  }
 ],
 "metadata": {
  "kernelspec": {
   "display_name": "Python 3",
   "language": "python",
   "name": "python3"
  },
  "language_info": {
   "codemirror_mode": {
    "name": "ipython",
    "version": 3
   },
   "file_extension": ".py",
   "mimetype": "text/x-python",
   "name": "python",
   "nbconvert_exporter": "python",
   "pygments_lexer": "ipython3",
   "version": "3.6.8"
  }
 },
 "nbformat": 4,
 "nbformat_minor": 2
}
