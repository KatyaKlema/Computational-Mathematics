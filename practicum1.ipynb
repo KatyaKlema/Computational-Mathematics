{
 "cells": [
  {
   "cell_type": "code",
   "execution_count": 61,
   "metadata": {
    "collapsed": true
   },
   "outputs": [],
   "source": [
    "import numpy as np\n",
    "from scipy import linalg as scpla"
   ]
  },
  {
   "cell_type": "code",
   "execution_count": 67,
   "metadata": {
    "collapsed": true
   },
   "outputs": [],
   "source": [
    "def fillU(U, k, i, n):\n",
    "    temp = np.copy(U[k, k:n])\n",
    "    U[k, k:] = np.copy(U[i, k:])\n",
    "    U[i, k:] = temp\n",
    "\n",
    "def fillL(L, k, i, n):\n",
    "    temp = np.copy(L[k, :k])\n",
    "    L[k, :k] = np.copy(L[i, :k])\n",
    "    L[i, :k] = temp\n",
    "    \n",
    "def fillP(P, k, i, n):\n",
    "    temp = np.copy(P[k])\n",
    "    P[k] = np.copy(P[i])\n",
    "    P[i] = temp"
   ]
  },
  {
   "cell_type": "code",
   "execution_count": 80,
   "metadata": {
    "collapsed": true
   },
   "outputs": [],
   "source": [
    "def Solution(A, b):\n",
    "    U = np.copy(A)\n",
    "    length = A.shape[0]\n",
    "    L = np.eye(length)\n",
    "    P = np.eye(length)\n",
    "    for i in range(length - 1):\n",
    "        max_index = np.argmax(np.abs(U[i:length,i])) + i\n",
    "\n",
    "        fillU(U, i, max_index, length)\n",
    "        fillL(L, i, max_index, length)\n",
    "        fillP(P, i, max_index, length)\n",
    "        for j in range(i + 1, length):\n",
    "            L[j,i] =   U[j,i] / U[i,i]\n",
    "            U[j,i:length] = U[j,i:length] - L[j,i] * U[i, i:length]\n",
    "    y = np.zeros(length)\n",
    "    P_mul_b = P@b\n",
    "    y[0] = P_mul_b[0]\n",
    "    for i in range(1, length):\n",
    "        y[i] = (P_mul_b[i] - (y[:i] @ L[i,:i]))\n",
    "    x = np.zeros(length)\n",
    "    for i in range(1, length + 1):\n",
    "        x[length - i] = (y[length - i] - (x[length - i:] @ U[length - i,length - i:])) / U[n - i,n - i]\n",
    "    return(L, U, P, x)"
   ]
  },
  {
   "cell_type": "code",
   "execution_count": 83,
   "metadata": {},
   "outputs": [
    {
     "name": "stdout",
     "output_type": "stream",
     "text": [
      "4.911101120228498e-15\n"
     ]
    }
   ],
   "source": [
    "n = 15\n",
    "\n",
    "A = np.random.rand(n,n)\n",
    "b = np.random.rand(n)\n",
    "L, U, P, x = Solution(A, b)\n",
    "print(np.linalg.norm(x - np.linalg.solve(A, b), 2))"
   ]
  },
  {
   "cell_type": "code",
   "execution_count": null,
   "metadata": {
    "collapsed": true
   },
   "outputs": [],
   "source": []
  },
  {
   "cell_type": "code",
   "execution_count": null,
   "metadata": {
    "collapsed": true
   },
   "outputs": [],
   "source": []
  }
 ],
 "metadata": {
  "kernelspec": {
   "display_name": "Python 3",
   "language": "python",
   "name": "python3"
  },
  "language_info": {
   "codemirror_mode": {
    "name": "ipython",
    "version": 3
   },
   "file_extension": ".py",
   "mimetype": "text/x-python",
   "name": "python",
   "nbconvert_exporter": "python",
   "pygments_lexer": "ipython3",
   "version": "3.6.8"
  }
 },
 "nbformat": 4,
 "nbformat_minor": 2
}
